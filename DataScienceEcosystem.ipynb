{
 "cells": [
  {
   "cell_type": "markdown",
   "id": "ebf307bf-edd5-4625-9af6-45a24c3f034a",
   "metadata": {},
   "source": [
    "# Data Science Tools and Ecosystem"
   ]
  },
  {
   "cell_type": "markdown",
   "id": "18440897-16d9-4318-94c9-ce5f4a43c9d5",
   "metadata": {},
   "source": [
    "In this notebook, Data Science Tools and Ecosystem are summarized."
   ]
  },
  {
   "cell_type": "markdown",
   "id": "968b4b0e-7fe4-41f5-b78b-a251a8de3ca4",
   "metadata": {},
   "source": [
    "__Objectives__:\n",
    "- List popular languages for Data Science\n",
    "- List common libraries\n",
    "- List common tools"
   ]
  },
  {
   "cell_type": "markdown",
   "id": "8fa1608c-85b7-436d-a24e-7f6ecd53eff2",
   "metadata": {},
   "source": [
    "## Author\n",
    "Ilia"
   ]
  },
  {
   "cell_type": "markdown",
   "id": "79f92fef-aa6e-408d-83df-4aba3129b2f1",
   "metadata": {},
   "source": [
    "Some of the popular languages that Data Scientists use are:"
   ]
  },
  {
   "cell_type": "markdown",
   "id": "79075ee9-ec47-49a7-a448-a2727a063b1f",
   "metadata": {},
   "source": [
    "1. Python\n",
    "2. R\n",
    "3. JavaScript"
   ]
  },
  {
   "cell_type": "markdown",
   "id": "c47911f4-452c-4b60-95aa-3e16e6dcc126",
   "metadata": {},
   "source": [
    "Some of the commonly used libraries used by Data Scientists include:\n",
    "1. pandas\n",
    "2. NumPy\n",
    "3. Matplotlib"
   ]
  },
  {
   "cell_type": "markdown",
   "id": "96bc339d-ca39-4c45-a68e-a3e823091e74",
   "metadata": {},
   "source": [
    "|Data Science Tools|\n",
    "|------|\n",
    "|Jupyter Notebooks|\n",
    "|R Studio|\n",
    "|Git|"
   ]
  },
  {
   "cell_type": "markdown",
   "id": "04fcbbe1-0594-49b9-9ebf-ca5e57c6cbec",
   "metadata": {},
   "source": [
    "### Below are a few examples of evaluating arithmetic expressions in Python "
   ]
  },
  {
   "cell_type": "code",
   "execution_count": 5,
   "id": "a5994f3c-4616-4639-b465-1f1a57385876",
   "metadata": {
    "tags": []
   },
   "outputs": [
    {
     "data": {
      "text/plain": [
       "17"
      ]
     },
     "execution_count": 5,
     "metadata": {},
     "output_type": "execute_result"
    }
   ],
   "source": [
    "# This a simple arithmetic expression to mutiply then add integers\n",
    "(3*4)+5"
   ]
  },
  {
   "cell_type": "code",
   "execution_count": 6,
   "id": "4ed834ce-f24c-44ed-8979-1d576e4a425c",
   "metadata": {
    "tags": []
   },
   "outputs": [
    {
     "data": {
      "text/plain": [
       "3.3333333333333335"
      ]
     },
     "execution_count": 6,
     "metadata": {},
     "output_type": "execute_result"
    }
   ],
   "source": [
    "# This will convert 200 minutes to hours by diving by 60\n",
    "200/60"
   ]
  },
  {
   "cell_type": "code",
   "execution_count": null,
   "id": "00a17354-d9fa-469a-b60c-4a64b17e8c39",
   "metadata": {},
   "outputs": [],
   "source": []
  }
 ],
 "metadata": {
  "kernelspec": {
   "display_name": "Python",
   "language": "python",
   "name": "conda-env-python-py"
  },
  "language_info": {
   "codemirror_mode": {
    "name": "ipython",
    "version": 3
   },
   "file_extension": ".py",
   "mimetype": "text/x-python",
   "name": "python",
   "nbconvert_exporter": "python",
   "pygments_lexer": "ipython3",
   "version": "3.7.12"
  }
 },
 "nbformat": 4,
 "nbformat_minor": 5
}
